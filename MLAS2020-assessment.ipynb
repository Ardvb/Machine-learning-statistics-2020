{
 "cells": [
  {
   "cell_type": "markdown",
   "metadata": {},
   "source": [
    "# Machine learning and statistics Assessment 2020\n"
   ]
  },
  {
   "cell_type": "code",
   "execution_count": 18,
   "metadata": {},
   "outputs": [],
   "source": [
    "import scipy.stats\n",
    "import numpy as np\n",
    "import pandas as pd\n",
    "import seaborn as sns\n",
    "import matplotlib.pyplot as plt\n",
    "from scipy.stats import chi2_contingency"
   ]
  },
  {
   "cell_type": "markdown",
   "metadata": {},
   "source": [
    "### 1. Python function to calculate square root of 2 to 100 decimal places"
   ]
  },
  {
   "cell_type": "markdown",
   "metadata": {},
   "source": [
    "Our assignment here is to write a python function, called sqrt2, that calculates and prints the square root of 2 to 100 decimal places. This has to be done without using any modules."
   ]
  },
  {
   "cell_type": "markdown",
   "metadata": {},
   "source": [
    "First I tried the easiest method I could think of, which was:"
   ]
  },
  {
   "cell_type": "code",
   "execution_count": 2,
   "metadata": {},
   "outputs": [
    {
     "name": "stdout",
     "output_type": "stream",
     "text": [
      "1.4142135623730951\n"
     ]
    }
   ],
   "source": [
    "def sqrt2():\n",
    "    x = 2 ** 0.5\n",
    "    print(x)\n",
    "    \n",
    "sqrt2()"
   ]
  },
  {
   "cell_type": "markdown",
   "metadata": {},
   "source": [
    "Unfortunately, Python only calculated 16 decimal places, so let's try to get python to print out 100 decimals using the format() function."
   ]
  },
  {
   "cell_type": "code",
   "execution_count": 20,
   "metadata": {},
   "outputs": [
    {
     "name": "stdout",
     "output_type": "stream",
     "text": [
      "1.4142135623730951454746218587388284504413604736328125000000000000000000000000000000000000000000000000\n"
     ]
    }
   ],
   "source": [
    "def sqrt2():\n",
    "    x = 2 ** 0.5\n",
    "    print(\"{:.100f}\".format(x))\n",
    "    \n",
    "sqrt2()"
   ]
  },
  {
   "cell_type": "markdown",
   "metadata": {},
   "source": [
    "Well, we got a bit further, 51 decimals this time. But then python is just showing us a bunch of zeros. \n",
    "We know that the square root of 2 is an irrational number, which never can be represented exactly by a finite number of digits,  so chances of this being correct are extremely small. Also, I checked what the correct value should be and I found this: 1.41421356237309504880168872420969807856967187537694 80731766797379907324784621070388503875343276415727 \n",
    "https://nerdparadise.com/math/reference/2sqrt10000 \n",
    "\n",
    "So, it seems we haven't gotten much closer to what we are looking for. This simple formula is not going to do, time to really delve into the subject and find a solution."
   ]
  },
  {
   "cell_type": "markdown",
   "metadata": {},
   "source": [
    "#### Newton's Method"
   ]
  },
  {
   "cell_type": "markdown",
   "metadata": {},
   "source": [
    "When trying to find a manual way of calculating the square root, I came across Newton's method.\n",
    "Basically, what this method does, is take an original guess at the square root, and then with a simple formula, get closer and closer, until the difference between the last and the second last guess is adequately small.\n"
   ]
  },
  {
   "cell_type": "code",
   "execution_count": 144,
   "metadata": {},
   "outputs": [],
   "source": [
    "# Return square root of 2, using Newton's approach  \n",
    "def squareRoot() : \n",
    "\n",
    "    # Initial guess \n",
    "    x = 2\n",
    "    l = 0.00000000000000000000000000000000000000000000000000000000000000000000000000000000000000000000001\n",
    "    \n",
    "    # Keep going until condition becomes false\n",
    "    while True : \n",
    "         \n",
    "  \n",
    "        # Calculate closer and closer to square root, using Newton's Method \n",
    "        root = 0.5 * (x + (2 / x))  \n",
    "  \n",
    "        # If difference between root and x(last and second last guess) is smaller than l, break the loop. Use abs to convert negative int to positive \n",
    "        if (abs(root - x) < l) : \n",
    "            break \n",
    "  \n",
    "        # last guess becomes root  \n",
    "        x = root\n",
    "        \n",
    "    # Show 100 decimals\n",
    "    s = format(root, \".100f\")\n",
    "        \n",
    "    return s \n",
    "  \n",
    "\n",
    "    print(squareRoot())\n",
    "\n",
    "    # Loosely adapted from: https://www.geeksforgeeks.org/find-root-of-a-number-using-newtons-method/"
   ]
  },
  {
   "cell_type": "code",
   "execution_count": 145,
   "metadata": {},
   "outputs": [
    {
     "data": {
      "text/plain": [
       "'1.4142135623730949234300169337075203657150268554687500000000000000000000000000000000000000000000000000'"
      ]
     },
     "execution_count": 145,
     "metadata": {},
     "output_type": "execute_result"
    }
   ],
   "source": [
    "squareRoot()"
   ]
  },
  {
   "cell_type": "markdown",
   "metadata": {},
   "source": [
    "Newton's method works, but still, Python won't calculate the square root of 2 to 100 digits."
   ]
  },
  {
   "cell_type": "markdown",
   "metadata": {},
   "source": [
    "After spending hours trying to figure out a way, I found something promising on stackoverflow. What if we try to find the square root of 2*10*200 (to leave 101 digits after square root), and then format it in a way that gets rid of the superfluous zero's at the end and displays it in the right way."
   ]
  },
  {
   "cell_type": "code",
   "execution_count": 184,
   "metadata": {},
   "outputs": [],
   "source": [
    "# Return square root of 2, adapting Newton's approach \n",
    "\n",
    "def sqrt2() : \n",
    "\n",
    "# Set initial value for x\n",
    "    x = 2 * 10 ** 200\n",
    "\n",
    "    r = x\n",
    "\n",
    "    def difference(x, r):\n",
    "        d1 = abs(x - r**2) # Make sure d1 is always an integer \n",
    "        d2 = abs(x - (r-1)**2)\n",
    "        d3 = abs(x - (r+1)**2)\n",
    "        minimised = d1 <= d2 and d1 <= d3\n",
    "        below_min = d3 < d2\n",
    "        return minimised, below_min\n",
    "\n",
    "    while True:\n",
    "        oldr = r\n",
    "        r = (r + x // r) // 2\n",
    "\n",
    "        minimised, below_min = test_diffs(x, r)\n",
    "        if minimised:\n",
    "            break\n",
    "\n",
    "        if r == oldr:\n",
    "            if below_min:\n",
    "                r += 1\n",
    "            else:\n",
    "                r -= 1\n",
    "            minimised, _ = test_diffs(x, r)\n",
    "            if minimised:\n",
    "                break\n",
    "\n",
    "    print(f'{r // 10**100}.{r % 10**100:0100d}')\n",
    "\n",
    "        \n",
    "    # Show 100 decimals\n",
    "   # s = format(root, \".100f\")\n",
    "        \n",
    "   # return s\n",
    "  \n",
    "\n",
    "    # Adapted from https://stackoverflow.com/questions/64278117/is-there-a-way-to-create-more-decimal-points-on-python-without-importing-a-libra"
   ]
  },
  {
   "cell_type": "code",
   "execution_count": 185,
   "metadata": {},
   "outputs": [
    {
     "name": "stdout",
     "output_type": "stream",
     "text": [
      "1.4142135623730950488016887242096980785696718753769480731766797379907324784621070388503875343276415727\n"
     ]
    }
   ],
   "source": [
    "sqrt2()"
   ]
  },
  {
   "cell_type": "markdown",
   "metadata": {},
   "source": [
    "### 2. Chi-squared test"
   ]
  },
  {
   "cell_type": "markdown",
   "metadata": {},
   "source": [
    "A Chi-squared test tells us if there is a statistically significant difference between the expected frequencies and the observed frequencies in one or more categories of a contingency table. https://en.wikipedia.org/wiki/Chi-squared_test "
   ]
  },
  {
   "cell_type": "markdown",
   "metadata": {},
   "source": [
    "First, I need to create a Pandas DataFrame from the table, so I can perform the Chi-squared test on it. I got some help on how to create a DataFrame and how to rename the rows here:\n",
    "\n",
    "https://pandas.pydata.org/pandas-docs/stable/reference/api/pandas.DataFrame.html\n",
    "\n",
    "https://pandas.pydata.org/pandas-docs/stable/reference/api/pandas.DataFrame.rename.html"
   ]
  },
  {
   "cell_type": "code",
   "execution_count": 11,
   "metadata": {},
   "outputs": [
    {
     "data": {
      "text/html": [
       "<div>\n",
       "<style scoped>\n",
       "    .dataframe tbody tr th:only-of-type {\n",
       "        vertical-align: middle;\n",
       "    }\n",
       "\n",
       "    .dataframe tbody tr th {\n",
       "        vertical-align: top;\n",
       "    }\n",
       "\n",
       "    .dataframe thead th {\n",
       "        text-align: right;\n",
       "    }\n",
       "</style>\n",
       "<table border=\"1\" class=\"dataframe\">\n",
       "  <thead>\n",
       "    <tr style=\"text-align: right;\">\n",
       "      <th></th>\n",
       "      <th>A</th>\n",
       "      <th>B</th>\n",
       "      <th>C</th>\n",
       "      <th>D</th>\n",
       "    </tr>\n",
       "  </thead>\n",
       "  <tbody>\n",
       "    <tr>\n",
       "      <th>White collar</th>\n",
       "      <td>90</td>\n",
       "      <td>60</td>\n",
       "      <td>104</td>\n",
       "      <td>95</td>\n",
       "    </tr>\n",
       "    <tr>\n",
       "      <th>Blue collar</th>\n",
       "      <td>30</td>\n",
       "      <td>50</td>\n",
       "      <td>51</td>\n",
       "      <td>20</td>\n",
       "    </tr>\n",
       "    <tr>\n",
       "      <th>No collar</th>\n",
       "      <td>30</td>\n",
       "      <td>40</td>\n",
       "      <td>45</td>\n",
       "      <td>35</td>\n",
       "    </tr>\n",
       "  </tbody>\n",
       "</table>\n",
       "</div>"
      ],
      "text/plain": [
       "               A   B    C   D\n",
       "White collar  90  60  104  95\n",
       "Blue collar   30  50   51  20\n",
       "No collar     30  40   45  35"
      ]
     },
     "execution_count": 11,
     "metadata": {},
     "output_type": "execute_result"
    }
   ],
   "source": [
    "df = pd.DataFrame(np.array([[90, 60, 104, 95], [30, 50, 51, 20], [30, 40, 45, 35]]), columns=[\"A\", \"B\", \"C\", \"D\"])\n",
    "df.rename(index={0: \"White collar\", 1: \"Blue collar\", 2: \"No collar\"})\n"
   ]
  },
  {
   "cell_type": "code",
   "execution_count": 13,
   "metadata": {},
   "outputs": [],
   "source": [
    "chi2, p, dof, expected = chi2_contingency(df) # Learned how to do this here: https://stackoverflow.com/questions/43963606/python-pandas-chi-squared-test-of-independence"
   ]
  },
  {
   "cell_type": "code",
   "execution_count": 14,
   "metadata": {},
   "outputs": [
    {
     "data": {
      "text/plain": [
       "24.5712028585826"
      ]
     },
     "execution_count": 14,
     "metadata": {},
     "output_type": "execute_result"
    }
   ],
   "source": [
    "chi2 # Display Chi-squared value"
   ]
  },
  {
   "cell_type": "code",
   "execution_count": 15,
   "metadata": {},
   "outputs": [
    {
     "data": {
      "text/plain": [
       "0.0004098425861096696"
      ]
     },
     "execution_count": 15,
     "metadata": {},
     "output_type": "execute_result"
    }
   ],
   "source": [
    "p # Display the associated p-value"
   ]
  },
  {
   "cell_type": "code",
   "execution_count": 16,
   "metadata": {},
   "outputs": [
    {
     "data": {
      "text/plain": [
       "6"
      ]
     },
     "execution_count": 16,
     "metadata": {},
     "output_type": "execute_result"
    }
   ],
   "source": [
    "dof # display the degrees of freedom"
   ]
  },
  {
   "cell_type": "code",
   "execution_count": 17,
   "metadata": {},
   "outputs": [
    {
     "data": {
      "text/plain": [
       "array([[ 80.53846154,  80.53846154, 107.38461538,  80.53846154],\n",
       "       [ 34.84615385,  34.84615385,  46.46153846,  34.84615385],\n",
       "       [ 34.61538462,  34.61538462,  46.15384615,  34.61538462]])"
      ]
     },
     "execution_count": 17,
     "metadata": {},
     "output_type": "execute_result"
    }
   ],
   "source": [
    "expected # Display the expected values if neighbourhood of residence is independent of occupation."
   ]
  },
  {
   "cell_type": "markdown",
   "metadata": {},
   "source": [
    "With a p-value of 0.0004 it is extremely unlikely that random chance can explain the observed values."
   ]
  },
  {
   "cell_type": "code",
   "execution_count": null,
   "metadata": {},
   "outputs": [],
   "source": []
  }
 ],
 "metadata": {
  "kernelspec": {
   "display_name": "Python 3",
   "language": "python",
   "name": "python3"
  },
  "language_info": {
   "codemirror_mode": {
    "name": "ipython",
    "version": 3
   },
   "file_extension": ".py",
   "mimetype": "text/x-python",
   "name": "python",
   "nbconvert_exporter": "python",
   "pygments_lexer": "ipython3",
   "version": "3.7.1"
  }
 },
 "nbformat": 4,
 "nbformat_minor": 2
}
