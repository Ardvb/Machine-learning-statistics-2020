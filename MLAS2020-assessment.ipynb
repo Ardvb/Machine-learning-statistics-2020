{
 "cells": [
  {
   "cell_type": "markdown",
   "metadata": {},
   "source": [
    "# Machine learning and statistics Assessment 2020\n"
   ]
  },
  {
   "cell_type": "code",
   "execution_count": 1,
   "metadata": {},
   "outputs": [],
   "source": [
    "import scipy.stats\n",
    "import numpy as np\n",
    "import pandas as pd\n",
    "import seaborn as sns\n",
    "import matplotlib.pyplot as plt\n",
    "from scipy.stats import chi2_contingency"
   ]
  },
  {
   "cell_type": "markdown",
   "metadata": {},
   "source": [
    "### 1. Python function to calculate square root of 2 to 100 decimal places"
   ]
  },
  {
   "cell_type": "markdown",
   "metadata": {},
   "source": [
    "Our assignment here is to write a python function, called sqrt2, that calculates and prints the square root of 2 to 100 decimal places. This has to be done without using any modules.\n",
    "The square root of 2 is an irrational number, which means it cannot be written as a fraction and there will never be any pattern in the number."
   ]
  },
  {
   "cell_type": "markdown",
   "metadata": {},
   "source": [
    "First I tried the easiest method I could think of, which was:"
   ]
  },
  {
   "cell_type": "code",
   "execution_count": 2,
   "metadata": {},
   "outputs": [
    {
     "name": "stdout",
     "output_type": "stream",
     "text": [
      "1.4142135623730951\n"
     ]
    }
   ],
   "source": [
    "def sqrt2practice():\n",
    "    x = 2 ** 0.5\n",
    "    print(x)\n",
    "    \n",
    "sqrt2practice()"
   ]
  },
  {
   "cell_type": "markdown",
   "metadata": {},
   "source": [
    "Unfortunately, Python only calculated 16 decimal places. This is because Python only stores an approximation of irrational numbers, so as to make it too heavy to calculate with. Let's try to get python to print out 100 decimals using the format() function."
   ]
  },
  {
   "cell_type": "code",
   "execution_count": 3,
   "metadata": {},
   "outputs": [
    {
     "name": "stdout",
     "output_type": "stream",
     "text": [
      "1.4142135623730951454746218587388284504413604736328125000000000000000000000000000000000000000000000000\n"
     ]
    }
   ],
   "source": [
    "def sqrt2practice2():\n",
    "    x = 2 ** 0.5\n",
    "    print(\"{:.100f}\".format(x))\n",
    "    \n",
    "sqrt2practice2()"
   ]
  },
  {
   "cell_type": "markdown",
   "metadata": {},
   "source": [
    "Well, we got a bit further, 51 decimals this time. But then python is just showing us a bunch of zeros. \n",
    "We know that the square root of 2 is an irrational number, which never can be represented exactly by a finite number of digits,  so chances of this being correct are extremely small. Also, I checked what the correct value should be and I found this: \n",
    "\n",
    "1.41421356237309504880168872420969807856967187537694 80731766797379907324784621070388503875343276415727 \n",
    "https://nerdparadise.com/math/reference/2sqrt10000 and https://apod.nasa.gov/htmltest/gifcity/sqrt2.1mil\n",
    "\n",
    "So, it seems we haven't gotten much closer to what we are looking for. This simple formula is not going to do, time to really delve into the subject and find a solution."
   ]
  },
  {
   "cell_type": "markdown",
   "metadata": {},
   "source": [
    "#### Newton's Method"
   ]
  },
  {
   "cell_type": "markdown",
   "metadata": {},
   "source": [
    "When trying to find a manual way of calculating the square root, I came across Newton's method.\n",
    "Basically, what this method does, is take an original guess at the square root, and then with a simple formula, get closer and closer, until the difference between the last and the second last guess is adequately small.\n"
   ]
  },
  {
   "cell_type": "code",
   "execution_count": 4,
   "metadata": {},
   "outputs": [],
   "source": [
    "# Return square root of 2, using Newton's approach  \n",
    "def squareRoot() : \n",
    "\n",
    "    x = 2 # Initial guess \n",
    "    \n",
    "    l = 0.000001 # Required difference between last and second last guess\n",
    "    \n",
    "    \n",
    "    while True : # Keep going until condition becomes false\n",
    "         \n",
    "  \n",
    "        root = 0.5 * (x + (2 / x)) # Get closer and closer to the correct number, by perfecting the initial guess, with this simple formula   \n",
    "\n",
    "  \n",
    "        if (abs(root - x) < l) : # If difference between root and x(last and second last guess) is smaller than l, break the loop. Use abs to convert negative int to positive\n",
    "            break \n",
    "  \n",
    "        x = root # last guess becomes root  \n",
    "        \n",
    "    s = format(root, \".100f\") # Show 100 decimals\n",
    "        \n",
    "    return s \n",
    "  \n",
    "\n",
    "    print(squareRoot())\n",
    "\n",
    "    # Adapted from: https://www.geeksforgeeks.org/find-root-of-a-number-using-newtons-method/"
   ]
  },
  {
   "cell_type": "code",
   "execution_count": 5,
   "metadata": {},
   "outputs": [
    {
     "data": {
      "text/plain": [
       "'1.4142135623730949234300169337075203657150268554687500000000000000000000000000000000000000000000000000'"
      ]
     },
     "execution_count": 5,
     "metadata": {},
     "output_type": "execute_result"
    }
   ],
   "source": [
    "squareRoot()"
   ]
  },
  {
   "cell_type": "markdown",
   "metadata": {},
   "source": [
    "Newton's method works, but still, Python won't calculate the square root of 2 to 100 digits."
   ]
  },
  {
   "cell_type": "markdown",
   "metadata": {},
   "source": [
    "After spending hours trying to figure out a way, I found something promising on stackoverflow. What if we try to find the square root of 2 * 10 * 200 (to leave 101 digits), and then format it in a way that gets rid of the superfluous zero's at the end and displays it in the right way? Got some inspiration here: https://stackoverflow.com/questions/64278117/is-there-a-way-to-create-more-decimal-points-on-python-without-importing-a-libra and here:\n",
    "https://stackoverflow.com/questions/5187664/generating-digits-of-square-root-of-2"
   ]
  },
  {
   "cell_type": "code",
   "execution_count": 6,
   "metadata": {},
   "outputs": [],
   "source": [
    "# code adapted from https://stackoverflow.com/questions/5187664/generating-digits-of-square-root-of-2\n",
    "\n",
    "def sqrt2(): # Function that calculates the squareroot of 2, to a total of 100 digits. Keeping numbers as integers.\n",
    "    \n",
    "    a = 2 * (10**(2*100)) # to calculate \n",
    "    \n",
    "    x_prev = 0 # Set initial guess at 0\n",
    "    \n",
    "    x_next = 1 * (10**100)\n",
    "    \n",
    "    while x_prev != x_next: # Keep going until x_prev == x_next\n",
    "        \n",
    "        x_prev = x_next # previous x is replaced by next x\n",
    "        \n",
    "        x_next = (x_prev + (a // x_prev)) >> 1 # Use a method like Newtons to get closer and closer to the correct number\n",
    "        \n",
    "    sqrt2=str(x_next) # Change x_next into a string so it can be used into format properly\n",
    "    \n",
    "    print('{}.{}'.format(sqrt2[:1], sqrt2[1:101])) # Format so the first digit comes before the '.' and the next 100 digits come after.\n",
    "\n",
    "\n"
   ]
  },
  {
   "cell_type": "code",
   "execution_count": 7,
   "metadata": {},
   "outputs": [
    {
     "name": "stdout",
     "output_type": "stream",
     "text": [
      "1.4142135623730950488016887242096980785696718753769480731766797379907324784621070388503875343276415727\n"
     ]
    }
   ],
   "source": [
    "sqrt2()"
   ]
  },
  {
   "cell_type": "markdown",
   "metadata": {},
   "source": [
    "Now, lets compare this value to the number found on Nerdparadise, as well as on the official NASA website:"
   ]
  },
  {
   "cell_type": "markdown",
   "metadata": {},
   "source": [
    "1.4142135623730950488016887242096980785696718753769480731766797379907324784621070388503875343276415727"
   ]
  },
  {
   "cell_type": "markdown",
   "metadata": {},
   "source": [
    "It looks like we finally got to where we wanted to be!"
   ]
  },
  {
   "cell_type": "markdown",
   "metadata": {},
   "source": [
    "### 2. Chi-squared test"
   ]
  },
  {
   "cell_type": "markdown",
   "metadata": {},
   "source": [
    "A Chi-squared test tells us if there is a statistically significant difference between the expected frequencies and the observed frequencies in one or more categories of a contingency table. https://en.wikipedia.org/wiki/Chi-squared_test "
   ]
  },
  {
   "cell_type": "markdown",
   "metadata": {},
   "source": [
    "First, I need to create a Pandas DataFrame from the table, so I can perform the Chi-squared test on it. I got some help on how to create a DataFrame and how to rename the rows here:\n",
    "\n",
    "https://pandas.pydata.org/pandas-docs/stable/reference/api/pandas.DataFrame.html\n",
    "\n",
    "https://pandas.pydata.org/pandas-docs/stable/reference/api/pandas.DataFrame.rename.html"
   ]
  },
  {
   "cell_type": "code",
   "execution_count": 8,
   "metadata": {},
   "outputs": [
    {
     "data": {
      "text/html": [
       "<div>\n",
       "<style scoped>\n",
       "    .dataframe tbody tr th:only-of-type {\n",
       "        vertical-align: middle;\n",
       "    }\n",
       "\n",
       "    .dataframe tbody tr th {\n",
       "        vertical-align: top;\n",
       "    }\n",
       "\n",
       "    .dataframe thead th {\n",
       "        text-align: right;\n",
       "    }\n",
       "</style>\n",
       "<table border=\"1\" class=\"dataframe\">\n",
       "  <thead>\n",
       "    <tr style=\"text-align: right;\">\n",
       "      <th></th>\n",
       "      <th>A</th>\n",
       "      <th>B</th>\n",
       "      <th>C</th>\n",
       "      <th>D</th>\n",
       "    </tr>\n",
       "  </thead>\n",
       "  <tbody>\n",
       "    <tr>\n",
       "      <th>White collar</th>\n",
       "      <td>90</td>\n",
       "      <td>60</td>\n",
       "      <td>104</td>\n",
       "      <td>95</td>\n",
       "    </tr>\n",
       "    <tr>\n",
       "      <th>Blue collar</th>\n",
       "      <td>30</td>\n",
       "      <td>50</td>\n",
       "      <td>51</td>\n",
       "      <td>20</td>\n",
       "    </tr>\n",
       "    <tr>\n",
       "      <th>No collar</th>\n",
       "      <td>30</td>\n",
       "      <td>40</td>\n",
       "      <td>45</td>\n",
       "      <td>35</td>\n",
       "    </tr>\n",
       "  </tbody>\n",
       "</table>\n",
       "</div>"
      ],
      "text/plain": [
       "               A   B    C   D\n",
       "White collar  90  60  104  95\n",
       "Blue collar   30  50   51  20\n",
       "No collar     30  40   45  35"
      ]
     },
     "execution_count": 8,
     "metadata": {},
     "output_type": "execute_result"
    }
   ],
   "source": [
    "df = pd.DataFrame(np.array([[90, 60, 104, 95], [30, 50, 51, 20], [30, 40, 45, 35]]), columns=[\"A\", \"B\", \"C\", \"D\"])\n",
    "df.rename(index={0: \"White collar\", 1: \"Blue collar\", 2: \"No collar\"})\n"
   ]
  },
  {
   "cell_type": "code",
   "execution_count": 9,
   "metadata": {},
   "outputs": [],
   "source": [
    "chi2, p, dof, expected = chi2_contingency(df) # Learned how to do this here: https://stackoverflow.com/questions/43963606/python-pandas-chi-squared-test-of-independence"
   ]
  },
  {
   "cell_type": "code",
   "execution_count": 10,
   "metadata": {},
   "outputs": [
    {
     "data": {
      "text/plain": [
       "24.5712028585826"
      ]
     },
     "execution_count": 10,
     "metadata": {},
     "output_type": "execute_result"
    }
   ],
   "source": [
    "chi2 # Display Chi-squared value"
   ]
  },
  {
   "cell_type": "code",
   "execution_count": 11,
   "metadata": {},
   "outputs": [
    {
     "data": {
      "text/plain": [
       "0.0004098425861096696"
      ]
     },
     "execution_count": 11,
     "metadata": {},
     "output_type": "execute_result"
    }
   ],
   "source": [
    "p # Display the associated p-value"
   ]
  },
  {
   "cell_type": "code",
   "execution_count": 12,
   "metadata": {},
   "outputs": [
    {
     "data": {
      "text/plain": [
       "6"
      ]
     },
     "execution_count": 12,
     "metadata": {},
     "output_type": "execute_result"
    }
   ],
   "source": [
    "dof # display the degrees of freedom"
   ]
  },
  {
   "cell_type": "code",
   "execution_count": 13,
   "metadata": {},
   "outputs": [
    {
     "data": {
      "text/plain": [
       "array([[ 80.53846154,  80.53846154, 107.38461538,  80.53846154],\n",
       "       [ 34.84615385,  34.84615385,  46.46153846,  34.84615385],\n",
       "       [ 34.61538462,  34.61538462,  46.15384615,  34.61538462]])"
      ]
     },
     "execution_count": 13,
     "metadata": {},
     "output_type": "execute_result"
    }
   ],
   "source": [
    "expected # Display the expected values if neighbourhood of residence is independent of occupation."
   ]
  },
  {
   "cell_type": "markdown",
   "metadata": {},
   "source": [
    "With a p-value of 0.0004 it is extremely unlikely that random chance can explain the observed values."
   ]
  },
  {
   "cell_type": "markdown",
   "metadata": {},
   "source": [
    "## 3. Standard deviation (STDEV.P vs STDEV.S)"
   ]
  },
  {
   "cell_type": "markdown",
   "metadata": {},
   "source": [
    "Microsoft Excel has two different ways of calculating the standard deviation of an array of numbers. What is the difference?"
   ]
  },
  {
   "cell_type": "code",
   "execution_count": 172,
   "metadata": {},
   "outputs": [],
   "source": [
    "x = np.array([1,23,100]) # Take a simple array to clearly see what is going on"
   ]
  },
  {
   "cell_type": "markdown",
   "metadata": {},
   "source": [
    "First, I will use Numpy to calculate the standard deviation of my array, without subtracting 1 from len. So this method is similar to STDEV.P function in Excel. I am not specifying any ddof (Delta Degrees of Freedom), so this is set to it's default 0. The formula numpy is using to calculate the standard deviation of x is now: *np.sqrt(np.sum((x - np.mean(x))**2)/len(x))*"
   ]
  },
  {
   "cell_type": "code",
   "execution_count": 173,
   "metadata": {},
   "outputs": [
    {
     "data": {
      "text/plain": [
       "42.444735310230826"
      ]
     },
     "execution_count": 173,
     "metadata": {},
     "output_type": "execute_result"
    }
   ],
   "source": [
    "np.sqrt(np.sum((x - np.mean(x))**2)/len(x))"
   ]
  },
  {
   "cell_type": "markdown",
   "metadata": {},
   "source": [
    "The built in Numpy function np.std gives us the same result. From now on, I will be using this built-in function."
   ]
  },
  {
   "cell_type": "code",
   "execution_count": 174,
   "metadata": {},
   "outputs": [
    {
     "data": {
      "text/plain": [
       "42.444735310230826"
      ]
     },
     "execution_count": 174,
     "metadata": {},
     "output_type": "execute_result"
    }
   ],
   "source": [
    "np.std(x)"
   ]
  },
  {
   "cell_type": "markdown",
   "metadata": {},
   "source": [
    "Now, I will add 'ddof = 1'. By doing so, 1 will be subtracted from the number of elements and in doing so provides an unbiased estimator of the variance of the infinite population. https://numpy.org/doc/stable/reference/generated/numpy.std.html\n",
    "This is similar to STDEV.S in Excel, and calculates an estimate of the whole population from the sample. The function STDEV.P calculates the standard deviation of the sample, which is the population, in case the sample is the entire population.\n"
   ]
  },
  {
   "cell_type": "code",
   "execution_count": 175,
   "metadata": {},
   "outputs": [
    {
     "data": {
      "text/plain": [
       "51.98397188877869"
      ]
     },
     "execution_count": 175,
     "metadata": {},
     "output_type": "execute_result"
    }
   ],
   "source": [
    "np.std(x, ddof = 1)"
   ]
  },
  {
   "cell_type": "markdown",
   "metadata": {},
   "source": [
    "As can be seen, there is a significant difference between the two calculated standard deviations. Let's dive deeper into the matter and try to explain what is going on."
   ]
  },
  {
   "cell_type": "code",
   "execution_count": 146,
   "metadata": {},
   "outputs": [],
   "source": [
    "y = np.random.randint(1,1001,100) # Create an array with 100 values, from 0 to 99"
   ]
  },
  {
   "cell_type": "code",
   "execution_count": 147,
   "metadata": {},
   "outputs": [
    {
     "data": {
      "text/plain": [
       "array([  9, 262, 856, 996, 309, 212, 372, 369, 904, 838, 137, 321, 673,\n",
       "       186, 331, 781, 618,  50, 395,  57, 471, 266, 753, 804, 683, 917,\n",
       "       647, 962, 568, 904, 998, 138, 821, 753, 462, 429, 198, 216, 317,\n",
       "       328, 861, 320, 793, 228, 383, 278, 285,   7, 617, 252,  94, 660,\n",
       "       924, 937,  30, 408,  53, 836, 783, 433, 298, 478, 379, 413, 228,\n",
       "        92, 164, 107, 511, 834,  64, 527, 958, 175, 204, 320, 308, 476,\n",
       "       138,  97, 862, 854,  85, 196, 441,  35, 435, 790, 668, 794,  41,\n",
       "       942, 709, 477, 928, 254, 522, 778, 725, 398])"
      ]
     },
     "execution_count": 147,
     "metadata": {},
     "output_type": "execute_result"
    }
   ],
   "source": [
    "y"
   ]
  },
  {
   "cell_type": "code",
   "execution_count": null,
   "metadata": {},
   "outputs": [],
   "source": []
  },
  {
   "cell_type": "markdown",
   "metadata": {},
   "source": []
  },
  {
   "cell_type": "code",
   "execution_count": 148,
   "metadata": {},
   "outputs": [],
   "source": [
    "ysample = np.random.choice(y,19, replace=False) # Take a sampe of 20 numbers from the population y, without replacement, so no value can be selected twice."
   ]
  },
  {
   "cell_type": "code",
   "execution_count": 149,
   "metadata": {},
   "outputs": [
    {
     "data": {
      "text/plain": [
       "array([ 94,  30, 683, 821, 998, 804,  97, 266, 278, 618, 298, 408,  50,\n",
       "       647, 435, 673, 138, 478, 861])"
      ]
     },
     "execution_count": 149,
     "metadata": {},
     "output_type": "execute_result"
    }
   ],
   "source": [
    "ysample"
   ]
  },
  {
   "cell_type": "code",
   "execution_count": 150,
   "metadata": {},
   "outputs": [
    {
     "data": {
      "text/plain": [
       "296.8183949825213"
      ]
     },
     "execution_count": 150,
     "metadata": {},
     "output_type": "execute_result"
    }
   ],
   "source": [
    "np.std(y) #EXPLAIN ALL OF THIS WITH COMMENTS!"
   ]
  },
  {
   "cell_type": "code",
   "execution_count": 151,
   "metadata": {},
   "outputs": [
    {
     "data": {
      "text/plain": [
       "297.0725682444007"
      ]
     },
     "execution_count": 151,
     "metadata": {},
     "output_type": "execute_result"
    }
   ],
   "source": [
    "np.std(ysample)"
   ]
  },
  {
   "cell_type": "code",
   "execution_count": 152,
   "metadata": {},
   "outputs": [
    {
     "data": {
      "text/plain": [
       "305.2130499306234"
      ]
     },
     "execution_count": 152,
     "metadata": {},
     "output_type": "execute_result"
    }
   ],
   "source": [
    "np.std(ysample, ddof=1) # Closer to standard deviation of population"
   ]
  },
  {
   "cell_type": "markdown",
   "metadata": {},
   "source": [
    "Now, let's try this again, but for a bigger population and a bigger sample:"
   ]
  },
  {
   "cell_type": "code",
   "execution_count": 89,
   "metadata": {},
   "outputs": [],
   "source": [
    "ybig = np.arange (1000)"
   ]
  },
  {
   "cell_type": "code",
   "execution_count": 98,
   "metadata": {},
   "outputs": [],
   "source": [
    "ybigsample = np.random.choice(ybig,199, replace=False)"
   ]
  },
  {
   "cell_type": "code",
   "execution_count": 99,
   "metadata": {},
   "outputs": [
    {
     "data": {
      "text/plain": [
       "array([990, 887, 951, 309, 632, 690, 672, 903, 976,  63, 222,  16,  48,\n",
       "       133, 925, 158,  20, 880, 339, 119, 791, 298, 702, 577, 857, 547,\n",
       "       206, 144, 652, 931, 735, 736,  78,  17, 301, 850, 442, 643, 590,\n",
       "       786, 358, 594, 476,  21, 231, 149,   1,  71, 845, 708, 417, 273,\n",
       "       286, 464, 827, 233, 607, 262, 193,  82, 132, 295, 835, 947, 987,\n",
       "       944,  69, 641, 131, 347, 848,  66, 498, 881, 691, 608, 722, 431,\n",
       "       388, 839,  35, 424, 215, 661, 993, 485,   7, 716, 465,  15, 393,\n",
       "       159, 514, 237, 649, 637, 156, 596, 107, 693, 884,  52, 611, 169,\n",
       "       787, 307, 764, 112, 121, 219, 333, 988, 731, 684, 694, 804, 369,\n",
       "       185, 682, 907, 356,  42, 843, 869, 430, 192, 745, 103, 399, 743,\n",
       "       950, 718, 154, 416, 604, 428, 554, 279, 603, 501, 208, 338, 143,\n",
       "       678, 618, 788,  56, 755, 687, 715, 381, 639, 360, 630, 870, 197,\n",
       "       836, 737, 101, 466, 408, 186, 849, 106, 904, 963, 833, 533, 528,\n",
       "       230, 974, 204, 310, 195, 855,  53, 253, 710,  37, 965, 496,  46,\n",
       "       405, 276, 483,  31, 840, 883, 913, 773, 348, 803, 587, 802, 534,\n",
       "       862, 765, 924,  12])"
      ]
     },
     "execution_count": 99,
     "metadata": {},
     "output_type": "execute_result"
    }
   ],
   "source": [
    "ybigsample"
   ]
  },
  {
   "cell_type": "code",
   "execution_count": null,
   "metadata": {},
   "outputs": [],
   "source": []
  },
  {
   "cell_type": "code",
   "execution_count": 100,
   "metadata": {},
   "outputs": [
    {
     "data": {
      "text/plain": [
       "288.6749902572095"
      ]
     },
     "execution_count": 100,
     "metadata": {},
     "output_type": "execute_result"
    }
   ],
   "source": [
    "np.std(ybig)"
   ]
  },
  {
   "cell_type": "code",
   "execution_count": 101,
   "metadata": {},
   "outputs": [
    {
     "data": {
      "text/plain": [
       "302.2486914914526"
      ]
     },
     "execution_count": 101,
     "metadata": {},
     "output_type": "execute_result"
    }
   ],
   "source": [
    "np.std(ybigsample)"
   ]
  },
  {
   "cell_type": "code",
   "execution_count": 102,
   "metadata": {},
   "outputs": [
    {
     "data": {
      "text/plain": [
       "303.0109844839509"
      ]
     },
     "execution_count": 102,
     "metadata": {},
     "output_type": "execute_result"
    }
   ],
   "source": [
    "np.std(ybigsample, ddof = 1)"
   ]
  },
  {
   "cell_type": "markdown",
   "metadata": {},
   "source": [
    "Again, Excel's STDEV.S method (equivalent to adding the ddof = 1), g"
   ]
  },
  {
   "cell_type": "code",
   "execution_count": null,
   "metadata": {},
   "outputs": [],
   "source": []
  },
  {
   "cell_type": "code",
   "execution_count": null,
   "metadata": {},
   "outputs": [],
   "source": []
  },
  {
   "cell_type": "code",
   "execution_count": null,
   "metadata": {},
   "outputs": [],
   "source": []
  },
  {
   "cell_type": "code",
   "execution_count": null,
   "metadata": {},
   "outputs": [],
   "source": []
  },
  {
   "cell_type": "code",
   "execution_count": null,
   "metadata": {},
   "outputs": [],
   "source": []
  },
  {
   "cell_type": "markdown",
   "metadata": {},
   "source": [
    "The reason STDEV.S (or adding ddof = 1 in numpy) is better at estimating the standard deviation of a population, when performed on a sample, is because division by *len(x)* can lead to an underestimate of the variance. https://stackoverflow.com/questions/27600207/why-does-numpy-std-give-a-different-result-to-matlab-std\n",
    "\n",
    "To get rid of this bias (or at least part of it) we lower the number we divide by (degrees of freedom) to some number less than *len(x)*. The ddof value specifies how much you want to subtract from *len(x)*. Typically, a value of ddof = 1 is used, and this is identical to what Excel does in it's STDEV.S function.\n",
    "The method of using *len(x)-1* works well in small and large samples alike, because the larger the sample, the closer the sample's variance will match the population's variance, and less compensation is needed. https://www.khanacademy.org/math/ap-statistics/summarizing-quantitative-data-ap/more-standard-deviation/v/review-and-intuition-why-we-divide-by-n-1-for-the-unbiased-sample-variance"
   ]
  },
  {
   "cell_type": "markdown",
   "metadata": {},
   "source": [
    "SHOW WHY STDEV.S IS BETTER FOR A SAMPLE!! And shortly why -1 https://www.khanacademy.org/math/ap-statistics/summarizing-quantitative-data-ap/more-standard-deviation/v/review-and-intuition-why-we-divide-by-n-1-for-the-unbiased-sample-variance"
   ]
  },
  {
   "cell_type": "markdown",
   "metadata": {},
   "source": [
    "### Show for a small population with small sample, medium with medium and large with large, to show effectiveness and scalability of -1 in STDEV.S \n",
    "\n",
    "\n",
    "o add a little more context, in the calculation of the variance (of which the standard deviation is the square root) we typically divide by the number of values we have.\n",
    "\n",
    "But if we select a random sample of N elements from a larger distribution and calculate the variance, division by N can lead to an underestimate of the actual variance. To fix this, we can lower the number we divide by (the degrees of freedom) to a number less than N (usually N-1). The ddof parameter allows us to change the divisor by the amount we specify.\n",
    "\n",
    "Unless told otherwise, NumPy will calculate the biased estimator for the variance (ddof=0, dividing by N). This is what you want if you are working with the entire distribution (and not a subset of values which have been randomly picked from a larger distribution). If the ddof parameter is given, NumPy divides by N - ddof instead. https://stackoverflow.com/questions/27600207/why-does-numpy-std-give-a-different-result-to-matlab-std\n",
    "\n",
    "dividing by N-1 gets rid of some of the bias in the standard deviation. This gets rid of some of (but probably not all of) of the bias in the standard deviation. This is likely to be what you want if you're using the function on a random sample of a larger distribution. "
   ]
  },
  {
   "cell_type": "code",
   "execution_count": null,
   "metadata": {},
   "outputs": [],
   "source": []
  }
 ],
 "metadata": {
  "kernelspec": {
   "display_name": "Python 3",
   "language": "python",
   "name": "python3"
  },
  "language_info": {
   "codemirror_mode": {
    "name": "ipython",
    "version": 3
   },
   "file_extension": ".py",
   "mimetype": "text/x-python",
   "name": "python",
   "nbconvert_exporter": "python",
   "pygments_lexer": "ipython3",
   "version": "3.7.1"
  }
 },
 "nbformat": 4,
 "nbformat_minor": 2
}
